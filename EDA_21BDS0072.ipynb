{
  "nbformat": 4,
  "nbformat_minor": 0,
  "metadata": {
    "colab": {
      "provenance": [],
      "authorship_tag": "ABX9TyPnc6maqKzkcU5/AFT0Zip9",
      "include_colab_link": true
    },
    "kernelspec": {
      "name": "python3",
      "display_name": "Python 3"
    },
    "language_info": {
      "name": "python"
    }
  },
  "cells": [
    {
      "cell_type": "markdown",
      "metadata": {
        "id": "view-in-github",
        "colab_type": "text"
      },
      "source": [
        "<a href=\"https://colab.research.google.com/github/Sedhupxthi/EDA-21BDS0072/blob/main/EDA_21BDS0072.ipynb\" target=\"_parent\"><img src=\"https://colab.research.google.com/assets/colab-badge.svg\" alt=\"Open In Colab\"/></a>"
      ]
    },
    {
      "cell_type": "code",
      "execution_count": null,
      "metadata": {
        "id": "8v-6Un2oTp6S"
      },
      "outputs": [],
      "source": [
        "import pandas as pd\n",
        "import numpy as np\n",
        "import seaborn as sns\n",
        "import matplotlib.pyplot as plt\n",
        "from scipy.stats import skew, kurtosis\n",
        "\n",
        "# Configure plotting styles\n",
        "sns.set(style=\"whitegrid\")\n",
        "plt.rcParams[\"figure.figsize\"] = (10, 6)\n"
      ]
    },
    {
      "cell_type": "code",
      "source": [
        "# Load the dataset\n",
        "file_path = 'BEPS.csv'\n",
        "try:\n",
        "    data = pd.read_csv(file_path)\n",
        "    print(\"Dataset loaded successfully.\")\n",
        "except FileNotFoundError:\n",
        "    print(\"Error: File not found. Please check the file path.\")\n",
        "    exit()\n",
        "\n",
        "# Display the first few rows\n",
        "print(\"\\nFirst 5 rows of the dataset:\")\n",
        "print(data.head())\n"
      ],
      "metadata": {
        "id": "c74r3LBY4Hv_"
      },
      "execution_count": null,
      "outputs": []
    },
    {
      "cell_type": "code",
      "source": [
        "# Dimensions of the dataset\n",
        "print(\"\\nDataset Dimensions:\")\n",
        "print(f\"Rows: {data.shape[0]}, Columns: {data.shape[1]}\")\n",
        "\n",
        "# Column data types and basic info\n",
        "print(\"\\nDataset Information:\")\n",
        "print(data.info())\n",
        "\n",
        "# Summary Statistics\n",
        "print(\"\\nSummary Statistics:\")\n",
        "print(data.describe(include='all'))\n"
      ],
      "metadata": {
        "id": "SbRd7YGX4L6x"
      },
      "execution_count": null,
      "outputs": []
    },
    {
      "cell_type": "code",
      "source": [
        "# Check for missing values\n",
        "print(\"\\nMissing Values:\")\n",
        "missing_data = data.isnull().sum()\n",
        "print(missing_data)\n",
        "\n",
        "# Visualize missing values\n",
        "sns.heatmap(data.isnull(), cbar=False, cmap='viridis')\n",
        "plt.title(\"Missing Values Heatmap\")\n",
        "plt.show()\n"
      ],
      "metadata": {
        "id": "8rN4DaLl4OQ7"
      },
      "execution_count": null,
      "outputs": []
    },
    {
      "cell_type": "code",
      "source": [
        "# Check for duplicate rows\n",
        "duplicates = data.duplicated().sum()\n",
        "print(f\"\\nDuplicate Rows: {duplicates}\")\n",
        "\n",
        "# Remove duplicates if any\n",
        "if duplicates > 0:\n",
        "    data = data.drop_duplicates()\n",
        "    print(f\"Duplicates removed. New dimensions: {data.shape}\")\n"
      ],
      "metadata": {
        "id": "O3gSmqdt4TF-"
      },
      "execution_count": null,
      "outputs": []
    },
    {
      "cell_type": "code",
      "source": [
        "# Fill missing values for numerical and categorical columns\n",
        "for col in data.select_dtypes(include=[np.number]):\n",
        "    if data[col].isnull().sum() > 0:\n",
        "        data[col].fillna(data[col].mean(), inplace=True)\n",
        "\n",
        "for col in data.select_dtypes(include=[object]):\n",
        "    if data[col].isnull().sum() > 0:\n",
        "        data[col].fillna(data[col].mode()[0], inplace=True)\n",
        "\n",
        "# Verify missing values after handling\n",
        "print(\"\\nMissing Values After Handling:\")\n",
        "print(data.isnull().sum())\n"
      ],
      "metadata": {
        "id": "jRLKUree4VWT"
      },
      "execution_count": null,
      "outputs": []
    },
    {
      "cell_type": "code",
      "source": [
        "# Automatically standardize column names (lowercase, replace spaces with underscores)\n",
        "data.columns = data.columns.str.lower().str.replace(' ', '_').str.replace('.', '_')\n",
        "\n",
        "print(\"\\nRenamed Columns:\")\n",
        "print(data.columns)\n"
      ],
      "metadata": {
        "id": "IwgC_Zqu4XOK"
      },
      "execution_count": null,
      "outputs": []
    },
    {
      "cell_type": "code",
      "source": [
        "# Identify outliers using IQR\n",
        "for col in data.select_dtypes(include=[np.number]):\n",
        "    Q1 = data[col].quantile(0.25)\n",
        "    Q3 = data[col].quantile(0.75)\n",
        "    IQR = Q3 - Q1\n",
        "    lower_bound = Q1 - 1.5 * IQR\n",
        "    upper_bound = Q3 + 1.5 * IQR\n",
        "\n",
        "    outliers = ((data[col] < lower_bound) | (data[col] > upper_bound)).sum()\n",
        "    print(f\"Outliers in {col}: {outliers}\")\n"
      ],
      "metadata": {
        "id": "JmN3wTu_4Yr3"
      },
      "execution_count": null,
      "outputs": []
    },
    {
      "cell_type": "code",
      "source": [
        "# Numerical Features\n",
        "print(\"\\nUnivariate Analysis - Numerical Features\")\n",
        "for col in data.select_dtypes(include=[np.number]).columns:\n",
        "    print(f\"\\nStatistics for {col}:\")\n",
        "    print(f\"Skewness: {skew(data[col])}, Kurtosis: {kurtosis(data[col])}\")\n",
        "\n",
        "    plt.figure()\n",
        "    sns.histplot(data[col], kde=True, bins=30, color='blue')\n",
        "    plt.title(f\"Distribution of {col}\")\n",
        "    plt.show()\n",
        "\n",
        "# Categorical Features\n",
        "print(\"\\nUnivariate Analysis - Categorical Features\")\n",
        "for col in data.select_dtypes(include=[object]).columns:\n",
        "    print(f\"\\nValue Counts for {col}:\\n{data[col].value_counts()}\")\n",
        "\n",
        "    plt.figure()\n",
        "    sns.countplot(y=data[col], order=data[col].value_counts().index, palette='viridis')\n",
        "    plt.title(f\"Frequency of {col}\")\n",
        "    plt.show()\n"
      ],
      "metadata": {
        "id": "j3MtmOwC4bgq"
      },
      "execution_count": null,
      "outputs": []
    },
    {
      "cell_type": "code",
      "source": [
        "# Numerical vs Numerical\n",
        "print(\"\\nBivariate Analysis - Correlation Matrix\")\n",
        "corr_matrix = data.corr()\n",
        "sns.heatmap(corr_matrix, annot=True, fmt='.2f', cmap='coolwarm')\n",
        "plt.title(\"Correlation Matrix\")\n",
        "plt.show()\n",
        "\n",
        "# Numerical vs Categorical\n",
        "for col in data.select_dtypes(include=[object]).columns:\n",
        "    for num_col in data.select_dtypes(include=[np.number]).columns:\n",
        "        plt.figure()\n",
        "        sns.boxplot(x=data[col], y=data[num_col], palette='Set2')\n",
        "        plt.title(f\"{num_col} by {col}\")\n",
        "        plt.xticks(rotation=45)\n",
        "        plt.show()\n"
      ],
      "metadata": {
        "id": "OKQuSkFF4e4Z"
      },
      "execution_count": null,
      "outputs": []
    },
    {
      "cell_type": "code",
      "source": [
        "# Pairplot for all numerical variables\n",
        "sns.pairplot(data.select_dtypes(include=[np.number]), diag_kind='kde', corner=True)\n",
        "plt.suptitle(\"Pairplot of Numerical Features\", size=16)\n",
        "plt.show()\n",
        "\n",
        "# Pairplot with a categorical hue (if applicable)\n",
        "if 'gender' in data.columns:  # Replace 'gender' with any categorical column of interest\n",
        "    sns.pairplot(data, hue='gender', diag_kind='kde', corner=True)\n",
        "    plt.suptitle(\"Pairplot with Hue: Gender\", size=16)\n",
        "    plt.show()\n"
      ],
      "metadata": {
        "id": "Q2vMP2lR4jZO"
      },
      "execution_count": null,
      "outputs": []
    },
    {
      "cell_type": "code",
      "source": [
        "# Save the cleaned dataset\n",
        "cleaned_file_path = \"BEPS_cleaned.csv\"\n",
        "data.to_csv(cleaned_file_path, index=False)\n",
        "print(f\"\\nCleaned dataset saved to {cleaned_file_path}.\")\n"
      ],
      "metadata": {
        "id": "z4LPKlCN4lA7"
      },
      "execution_count": null,
      "outputs": []
    },
    {
      "cell_type": "code",
      "source": [],
      "metadata": {
        "id": "tVXsFPm85NWn"
      },
      "execution_count": null,
      "outputs": []
    }
  ]
}